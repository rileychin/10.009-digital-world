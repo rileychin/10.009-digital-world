{
 "cells": [
  {
   "cell_type": "markdown",
   "metadata": {},
   "source": [
    "## DW mid-terms 2017 solutions <br>"
   ]
  },
  {
   "cell_type": "markdown",
   "metadata": {},
   "source": [
    "### These solutions are student compiled and might contain errors (especially for qn 1 & 2) <br> Credit goes to Team Anonymous on Piazza"
   ]
  },
  {
   "cell_type": "code",
   "execution_count": null,
   "metadata": {},
   "outputs": [],
   "source": [
    "import math\n",
    "def combination(credit):\n",
    "    credit = (credit - 10.0)/20.0 # 3\n",
    "    out = 2.0*credit - 1.5\n",
    "    return out\n",
    "def activation(a):\n",
    "    probability = 1.0/(1 + math.exp(-a))\n",
    "    print(probability)\n",
    "credit = 16.0\n",
    "output = activation( combination(credit) ) # 14\n",
    "print(credit)\n",
    "print(output) # 16"
   ]
  },
  {
   "cell_type": "markdown",
   "metadata": {},
   "source": [
    "### Q1(a) A student calculates that when line 3 is executed, credit will have a value of 0.3. However, when line 15 is executed, he is surprised to see 16.0 displayed on the screen. Explain why this is the case. (4 points)"
   ]
  },
  {
   "cell_type": "markdown",
   "metadata": {},
   "source": [
    "**Sample answer 1:** <br>\n",
    "'credit' in the function 'combination' refers to the function parameter credit from the local\n",
    "namespace, instead of the 'credit' from the global namespace. This is because the local\n",
    "namespace takes precedence over the global namespace. Hence 'credit' at line 3 is the assigned\n",
    "value resulting for the set of operations on the right. The change value of 'credit' from the local\n",
    "namespace does not affect 'credit' from the global namespace. Hence 'credit' in the global\n",
    "namespace remains as 16.0 as is printed as such."
   ]
  },
  {
   "cell_type": "markdown",
   "metadata": {},
   "source": [
    "**Sample answer 2:** <br>\n",
    "The student expects 0.3 to be displayed instead of 16.0 and is thus surprised. This suggests that the student expects the value of 'credit' from the local namespace of function 'combination' instead. However, since print(credit)is located at the outermost indentation level, 'credit' value of 16 from the global namespace is printed instead. To obtain the student's expected output of 0.3, the student should shift print(credit) to the line just after #3 at the same indentation level. This is because the local namespace takes precedence over the global namespace within the same indentation level of the function."
   ]
  },
  {
   "cell_type": "markdown",
   "metadata": {},
   "source": [
    "**Additional notes: **<br>We have seen that multiple namespaces can exist independently from each other and that\n",
    "they can contain the same variable names on different hierachy levels. The “scope” defines\n",
    "on which hierarchy level Python searches for a particular “variable name” for its associated\n",
    "object. Now, the next question is: “In which order does Python search the different levels of\n",
    "namespaces before it finds the name-to-object’ mapping?”\n",
    "<br>To answer is: It uses the LEGB-rule, which stands for Local -> Enclosed -> Global -> Built-in,\n",
    "where the arrows should denote the direction of the namespace-hierarchy search order.\n",
    "<br>  - Local can be inside a function or class method, for example.\n",
    "<br>  - Enclosed can be its enclosing function, e.g., if a function is wrapped inside another\n",
    "function.\n",
    "<br>  - Global refers to the uppermost level of the executing script itself, and\n",
    "<br>  - Built-in are special names that Python reserves for itself.\n",
    "<br>So, if a particular name:object mapping cannot be found in the local namespaces, the\n",
    "namespaces of the enclosed scope are being searched next. If the search in the enclosed\n",
    "scope is unsuccessful, too, Python moves on to the global namespace, and eventually, it will\n",
    "search the built-in namespace (side note: if a name cannot found in any of the namespaces,\n",
    "a NameError will is raised)."
   ]
  },
  {
   "cell_type": "markdown",
   "metadata": {},
   "source": [
    "### (b) When line 14 is executed, describe the sequence of the function calls and how data is passed among these functions and back to the variable output. Hence, explain why when line 16 is executed, None is displayed on the screen. (6 points)"
   ]
  },
  {
   "cell_type": "markdown",
   "metadata": {},
   "source": [
    "**Sample answer: **<br>- *activation* is called, but it requires an argument *a*\n",
    "<br>- *combination* is called, and passes *credit* as a argument\n",
    "<br>- *combination* returns **out**, which is passed into *activation*\n",
    "<br>- *activation* only prints **probability** but *does not return anything*\n",
    "<br>- output is **None**, and is printed as such in line 16."
   ]
  },
  {
   "cell_type": "markdown",
   "metadata": {},
   "source": [
    "**Additional notes:** <br> A parameter is a variable in a method definition. When a method is called, the arguments are\n",
    "the data you pass into the method's parameters. Parameter is variable in the declaration of\n",
    "function. Argument is the actual value of this variable that gets passed to function."
   ]
  },
  {
   "cell_type": "markdown",
   "metadata": {},
   "source": [
    "### Q.2 [10 points]<br>A student was asked to write a function to rotate the robot on itself a given number of times, either in clockwise or counterclockwise rotation. The student notes that it takes about 5 seconds to do a full rotation at 100% speed on one of the wheels. However, when testing his program, he realized something went wrong. <br><br>A) Can you spot any syntax error in the code (including type errors) that would prevent the program to run? Please indicate the lines and how would you correct them. (3 points)<br><br>B) After fixing syntax errors, can you spot any logical mistakes in the code? Please indicate the lines and how would you correct them. Briefly summarize the behavior of the robot for the given test case if the logical mistakes are not fixed. (7 points)"
   ]
  },
  {
   "cell_type": "code",
   "execution_count": null,
   "metadata": {},
   "outputs": [],
   "source": [
    "from eBot import eBot\n",
    "#import import time # SYNTHAX ERROR: double import \n",
    "import time\n",
    "\n",
    "# Rotate and conquer\n",
    "def one_round(direction): #LOGICAL ERROR: direction not speed\n",
    "    if direction == 'clockwise': # SYNTAX ERROR: == instead of = \n",
    "        ebot.wheels(0,1)\n",
    "    elif direction == 'counter clockwise': # SYNTAX ERROR: == instead of = \n",
    "        ebot.wheels(1,0)\n",
    "    time.sleep(2.5)\n",
    "    \n",
    "def rotate(times, direction):\n",
    "    #print ('Rotating' + times + ' times in direction: ' + direction) # SYNTHAX ERROR: int + str type \n",
    "    print('Rotating' + str(times) + ' times in direction: ' + str(direction))\n",
    "    for i in range(1,times):\n",
    "        one_round(direction)# LOGICAL ERROR: direction not speed\n",
    "        time.sleep(3) # LOGICAL ERROR: delay for loop before next iteration\n",
    "ebot = eBot.eBot() # create an eBot object\n",
    "ebot.connect() # connect to the eBot via Bluetooth\n",
    "#Test case, this should rotate 3 full times clockwise...\n",
    "rotate(3, clockwise)\n",
    "#Prof! My code does not work!\n",
    "\n",
    "ebot.disconnect() # disconnect the Bluetooth communication"
   ]
  },
  {
   "cell_type": "markdown",
   "metadata": {},
   "source": [
    "#### The robot will only rotate clockwise once."
   ]
  },
  {
   "cell_type": "markdown",
   "metadata": {},
   "source": [
    "### Q.3 [5 points] <br> A regular polygon is an n-sided polygon in which all sides are of the same length and all angles have the same degree. The formula for computing the area of a regular polygon is: $$ Area = \\frac{n\\times s^{2}}{4\\times tan(\\frac{n}{\\pi})} $$ Here, s is the length of a side. Write a function named `area_r_polygon` that takes the number of sides and the length of a side as arguments, then returns the area of the regular polygon up to 3 decimal places. Note: Use math.pi to obtain an accurate value for pi."
   ]
  },
  {
   "cell_type": "code",
   "execution_count": null,
   "metadata": {},
   "outputs": [],
   "source": [
    "import math\n",
    "def area_r_polygon(n,s):\n",
    "    return round(n*s**2/(4*math.tan(math.pi/n)),3)\n",
    "# area_r_polygon = lambda n,s: (round(n*s**2/(4*math.tan(math.pi/n)),3))\n",
    "\n",
    "## TEST CASES ##\n",
    "print('Test case 1: n=5, s=6.5')\n",
    "print(area_r_polygon(5, 6.5))\n",
    "print('Test case 2: n=7, s=3.25')\n",
    "print(area_r_polygon(7, 3.25))\n",
    "print('Test case 3: n=2, s=12.5')\n",
    "print(area_r_polygon(2, 12.5))"
   ]
  },
  {
   "cell_type": "markdown",
   "metadata": {},
   "source": [
    "### Q.4 [10 points]<br>The number 3, 5, 6, and 9 are all integers below 10 that are multiples of either 3 or 5; the sum of 3, 5, 6, 9 is 23. Similarly, 2, 4, 6, 8, 10 are all integers below 12 that are multiples of either 2 or 4; the sum of 2,4, 6, 8, 10 is 30.<br><br>Write a function mysum(a,b,limit) that accepts three arguments: a, b and limit. The arguments a and b are integers greater than zero and lesser than limit. The function mysum(a,b,limit) should return the sum of all the multiples of a or b, the multiples being lesser than limit. If the user enters a or b to be less than zeroor non-integers, the function should return the error message “Wrong input” as a string. "
   ]
  },
  {
   "cell_type": "code",
   "execution_count": null,
   "metadata": {},
   "outputs": [],
   "source": [
    "def mysum(a,b,limit):\n",
    "    try:\n",
    "        if a >= limit or b >= limit or a <= 0 or b <= 0:\n",
    "            return 'Wrong input'\n",
    "        if type(a) != int or type(b) != int:\n",
    "            return 'Wrong input'\n",
    "    except:\n",
    "        return 'Wrong input'\n",
    "    sum_ = 0\n",
    "    for i in range(int(limit/a)+1):\n",
    "        if i*a < limit:\n",
    "            sum_ += i*a\n",
    "\n",
    "    for j in range(int(limit/b)+1):\n",
    "        if j*b < limit:\n",
    "            sum_ += j*b\n",
    "\n",
    "    for k in range(int(limit/(a*b))+1):\n",
    "        if k*a*b < limit:\n",
    "            sum_ -= k*a*b\n",
    "\n",
    "    return sum_\n",
    "\n",
    "# TEST CASES #\n",
    "print(mysum(3,5,10))\n",
    "print(mysum(2,4,12))\n",
    "print(mysum(3,3,15))\n",
    "print(mysum(7,9,100))\n",
    "print(mysum(21,34,10000))\n",
    "print(mysum(0,5,10))\n",
    "print(mysum(0.5,5,10))\n",
    "print(mysum(3,'x',10))\n",
    "print(mysum(2,3,0)) # Returns 'Wrong input' as a and b should be lesser than limit"
   ]
  },
  {
   "cell_type": "markdown",
   "metadata": {},
   "source": [
    "### Q.5 [10points]<br>Write a function called get_students(students, course)which takes in a list and a string. The input list ismade up of a sequence of binary tuples, each with a student name and a list of courses that the student has enrolled in. The second argument is astring containing the name of a course. Your function should return a list of the names of students who are enrolled in that course. If no students are taking the course the function should return an empty list. "
   ]
  },
  {
   "cell_type": "code",
   "execution_count": null,
   "metadata": {},
   "outputs": [],
   "source": [
    "students = [(\"Alan\", [\"CompSci\", \"Physics\", \"Math\"]), \n",
    "            (\"Justin\", [\"Math\", \"CompSci\", \"Stats\"]),\n",
    "            (\"Edward\", [\"CompSci\", \"Philosophy\", \"Economics\"]),\n",
    "            (\"Margaret\", [\"InfSys\", \"Accounting\", \"Economics\", \"CommLaw\"]),\n",
    "            (\"Philip\", [\"Sociology\", \"Economics\", \"Law\", \"Stats\", \"Music\"]),\n",
    "            (\"Mary\", [\"Math\", \"CompSci\", \"Stats\"]),\n",
    "            (\"Vera\", [\"CompSci\", \"Philosophy\", \"Economics\"]),\n",
    "            (\"Mike\", [\"InfSys\", \"Accounting\", \"Economics\", \"CommLaw\"]),\n",
    "            (\"Donna\", [\"Sociology\", \"Economics\", \"Law\", \"Stats\"])]\n",
    "\n",
    "def get_students(students, subject):\n",
    "    lst = []\n",
    "    for i in range(len(students)):\n",
    "        if subject in students[i][1]: \n",
    "            lst.append(students[i][0])\n",
    "    return lst\n",
    "\n",
    "## TEST CASES ##\n",
    "print(get_students(students, 'Philosophy'))\n",
    "print(get_students(students, 'History'))\n",
    "print(get_students(students, 'Math'))\n",
    "print(get_students(students, 'CompSci'))"
   ]
  },
  {
   "cell_type": "markdown",
   "metadata": {},
   "source": [
    "### Q.6 [Total: 30 points]<br>SUTDBook is a social network website founded by one of SUTD graduates. They are currently hiring some software engineers to develop an algorithm to suggest new ‘friends’ to their user. Your task in this question is to build this new friends suggestion algorithm.<br><br>Network of users can be represented as a graph of connected nodes where each user is a node. The connection between two nodes statesa friend relationship between the two users.<br> <br>a) [5points] <br>Write a function called get_nodes(fid) which takes in a file object as its input arguments and outputs a list of tuples. Each tuple shows a friend connection between two users and each user is represented by an integer. <br><br>b) [10 points]<br>Write a function create_graph(nodes) which takes in a list of tuples and returns a graph of friend connection as a dictionary. The list of tuples is obtained from the output of get_nodes(fid)in part (a) and represents a friend connection between two users. The outputof the function is a dictionary with each user as a key. The value is also a dictionarythat contains key-value pair of each of the user’s friends. <br><br>c) [5points]<br>Write a functioncalled get_friends(G,node) that takes in two arguments. The first argument is a dictionary that contains the network of friends and the second argument is the node(or user)of interest. The function get_friends(G,node)returns a list of friends that particular user has. <br><br>d) [10 points]<br>Write a function called suggested_new_friends(G,node) that takes in a dictionary describing the friends network and an integer representing a user. The function returns a list of suggested new friends for the input user."
   ]
  },
  {
   "cell_type": "code",
   "execution_count": null,
   "metadata": {},
   "outputs": [],
   "source": [
    "# PART A ##\n",
    "def get_nodes(fid):\n",
    "    lines = fid.readlines()    \n",
    "    lines_s = [line.strip(\"\\n\") for line in lines]    \n",
    "    lines_r = [line.strip(\"\\r\") for line in lines_s]    \n",
    "    tuples_ = [line.split(\" \") for line in lines_r]    \n",
    "    tuples_i = [tuple([int(number) for number in pair]) for pair in tuples_]     \n",
    "    return tuples_i \n",
    "\n",
    "## PART B ##\n",
    "def create_graph(nodes):\n",
    "    g ={}\n",
    "    for a, b in nodes:   \n",
    "     g.setdefault(a, {}).update({b:1})\n",
    "     a,b = b,a\n",
    "     g.setdefault(a, {}).update({b:1})\n",
    "    return g\n",
    "\n",
    "## PART C ##\n",
    "def get_friends(G,user):\n",
    "    return list(G[user])\n",
    "#get_friends = lambda G,user: list(G[user])\n",
    "\n",
    "## PART D ##\n",
    "def most_frequent(lst):\n",
    "    count_dict = {}\n",
    "    for i in lst:\n",
    "        if count_dict.get(i) == None:\n",
    "         count_dict.update({i : lst.count(i)})\n",
    "    return [x for x in count_dict.keys() if count_dict[x] == max(count_dict.values())], max(count_dict.values())\n",
    "\n",
    "def suggested_new_friends(G,node):\n",
    "    friends_list = get_friends(G,node)\n",
    "    friend_friend_list = []\n",
    "    for friend_friend in friends_list:\n",
    "        for friend_friend in get_friends(G,friend_friend):\n",
    "            if friend_friend != node:\n",
    "                friend_friend_list.append(friend_friend)\n",
    "    return most_frequent(friend_friend_list)\n",
    "\n",
    "# OVERALL TEST CASES #\n",
    "f=open('/Users/[yourname]/Desktop/midterm2017/midterm2017/facebook_less.txt','r') #Change accordingly\n",
    "nodes= get_nodes(f)\n",
    "G= create_graph(nodes)\n",
    "print ('Friends of 1from facebook_less.txt')\n",
    "print (get_friends(G,1))\n",
    "print ('Suggested new friends for 1')\n",
    "print (suggested_new_friends(G,1))\n",
    "f.close()\n",
    "f=open('/Users/[yourname]/Desktop/midterm2017/midterm2017/sutdbook1.txt','r') #Change accordingly\n",
    "nodes= get_nodes(f)\n",
    "G= create_graph(nodes)\n",
    "print ('Friends of 0 from sutdbook1.txt')\n",
    "print (get_friends(G,0))\n",
    "print ('Suggested new friends for 0')\n",
    "print (suggested_new_friends(G,0))\n",
    "f.close()\n",
    "f=open('/Users/[yourname]/Desktop/midterm2017/midterm2017/sutdbook2.txt','r') #Change accordingly\n",
    "nodes= get_nodes(f)\n",
    "G= create_graph(nodes)\n",
    "print ('Friends of 0 from sutdbook2.txt')\n",
    "print (get_friends(G,0))\n",
    "print ('Suggested new friends for 0')\n",
    "print (suggested_new_friends(G,0))\n",
    "f.close()"
   ]
  },
  {
   "cell_type": "markdown",
   "metadata": {},
   "source": [
    "### Q.7 [15 points]<br>Design an efficient algorithm that determines the number of ways 5 non-negative integers can sum up to N. Your code must be able to handle large N values (150+) under 20 seconds. (Timer included to each cell as proof)"
   ]
  },
  {
   "cell_type": "markdown",
   "metadata": {},
   "source": [
    "#### Negative Example: Brute Force (Don't even try to time it)"
   ]
  },
  {
   "cell_type": "code",
   "execution_count": null,
   "metadata": {},
   "outputs": [],
   "source": [
    "def nos(n):\n",
    " ans = 0   \n",
    " for i in range(n+1):\n",
    "    for j in range(n+1):\n",
    "        for k in range(n+1):\n",
    "            for l in range(n+1):\n",
    "                for m in range(n+1): \n",
    "                    if i + j + k + l + m == n:\n",
    "                        ans += 1\n",
    " return ans"
   ]
  },
  {
   "cell_type": "markdown",
   "metadata": {},
   "source": [
    "#### Sample Solution 1: Recursion + Nested Loops (~10 seconds)"
   ]
  },
  {
   "cell_type": "code",
   "execution_count": null,
   "metadata": {},
   "outputs": [],
   "source": [
    "def nos(n, x = 5):\n",
    "    if x == 1:\n",
    "        return 1 \n",
    "    if n == 0:\n",
    "        return 1 \n",
    "    else:\n",
    "        solutions = 0    \n",
    "        for i in range(x):\n",
    "            for j in range(n):\n",
    "                solutions += nos(j, i)\n",
    "        return solutions\n",
    "## TIMER ##    \n",
    "import time\n",
    "start_time = time.time()\n",
    "print(nos(150,5))\n",
    "print(\"--- %s seconds ---\" % (time.time() - start_time)) "
   ]
  },
  {
   "cell_type": "markdown",
   "metadata": {},
   "source": [
    "#### Sample Solution 2: Pure Recursion (~4 seconds)"
   ]
  },
  {
   "cell_type": "code",
   "execution_count": null,
   "metadata": {},
   "outputs": [],
   "source": [
    "def nos(n, x=5):\n",
    "    if x == 1:\n",
    "        return 1\n",
    "    if n == 1:\n",
    "        return x\n",
    "    if n == 0:\n",
    "        return 1\n",
    "    return sum([nos(n-m,x-1) for m in range(n+1)])\n",
    "## TIMER ##    \n",
    "import time\n",
    "start_time = time.time()\n",
    "print(nos(5,5))\n",
    "print(\"--- %s seconds ---\" % (time.time() - start_time))"
   ]
  },
  {
   "cell_type": "markdown",
   "metadata": {},
   "source": [
    "#### Sample Solution 3: Top-down DP with Memomisation & Decorators (Sample 1: ~0.1 seconds; Sample 2: ~0.04 seconds)"
   ]
  },
  {
   "cell_type": "code",
   "execution_count": null,
   "metadata": {},
   "outputs": [],
   "source": [
    "def memo_nos(f): \n",
    "    nos_ans = {} \n",
    "    def helper_nos(*args):\n",
    "        if str(args) not in nos_ans:\n",
    "            nos_ans[str(args)] = f(args[0],args[1])  \n",
    "        return nos_ans[str(args)]\n",
    "    return helper_nos\n",
    "@memo_nos\n",
    "\n",
    "# COPY PASTE EITHER SAMPLE 1 OR SAMPLE 2 CODE HERE\n",
    "\n",
    "## TIMER ##    \n",
    "import time\n",
    "start_time = time.time()\n",
    "print(nos(150,5))\n",
    "print(\"--- %s seconds ---\" % (time.time() - start_time))"
   ]
  },
  {
   "cell_type": "markdown",
   "metadata": {},
   "source": [
    "#### Sample Solution 4: Combinatorics (<0.001 seconds; so fast that Python might return 0 seconds)"
   ]
  },
  {
   "cell_type": "code",
   "execution_count": null,
   "metadata": {},
   "outputs": [],
   "source": [
    "from scipy.special import comb\n",
    "def nos(n, x=5): \n",
    "    return int(comb(n+x-1 , x-1, exact=False, repetition=False))\n",
    "#nos = lambda n, x=5: comb(n+x-1 , x-1, exact=False, repetition=False)\n",
    "## TIMER ##    \n",
    "import time\n",
    "start_time = time.time()\n",
    "print(nos(150,5))\n",
    "print(\"--- %s seconds ---\" % (time.time() - start_time))"
   ]
  },
  {
   "cell_type": "markdown",
   "metadata": {},
   "source": [
    "#### Sample Solution 5: Combinatorics with loops (~1 second; Uses the same logic as solution 4)"
   ]
  },
  {
   "cell_type": "code",
   "execution_count": null,
   "metadata": {},
   "outputs": [],
   "source": [
    "def nos(n ,x=5):\n",
    "    sol = 0\n",
    "    for a in range(n + 1):\n",
    "        for b in range(n + 1 - a):\n",
    "            for c in range(n + 1 - a - b):\n",
    "                for d in range(n + 1 - a - b - c):\n",
    "                    sol += 1\n",
    "    return sol\n",
    "## TIMER ##    \n",
    "import time\n",
    "start_time = time.time()\n",
    "print(nos(150,5))\n",
    "print(\"--- %s seconds ---\" % (time.time() - start_time))"
   ]
  },
  {
   "cell_type": "code",
   "execution_count": null,
   "metadata": {},
   "outputs": [],
   "source": []
  }
 ],
 "metadata": {
  "kernelspec": {
   "display_name": "Python 3",
   "language": "python",
   "name": "python3"
  },
  "language_info": {
   "codemirror_mode": {
    "name": "ipython",
    "version": 3
   },
   "file_extension": ".py",
   "mimetype": "text/x-python",
   "name": "python",
   "nbconvert_exporter": "python",
   "pygments_lexer": "ipython3",
   "version": "3.7.1"
  }
 },
 "nbformat": 4,
 "nbformat_minor": 2
}
