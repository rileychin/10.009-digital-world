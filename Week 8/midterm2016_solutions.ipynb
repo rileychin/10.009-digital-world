{
 "cells": [
  {
   "cell_type": "markdown",
   "metadata": {},
   "source": [
    "## DW mid-terms 2016 solutions <br>"
   ]
  },
  {
   "cell_type": "markdown",
   "metadata": {},
   "source": [
    "### These solutions are student compiled and might contain errors (especially for qn 1 & 2) <br> Credit goes to Team Anonymous on Piazza"
   ]
  },
  {
   "cell_type": "markdown",
   "metadata": {},
   "source": [
    "### Part A<br><br>Q.1 [10 points]<br>State the similarities and differences between list and dictionary data structures. State what kind of data is suitable for each data structure and give examples."
   ]
  },
  {
   "cell_type": "markdown",
   "metadata": {},
   "source": [
    "<br>\n",
    "Similarities:\n",
    "- Both lists and dictionaries are mutable.\n",
    "- Both lists and dictionaries can be generated via comprehensions.\n",
    "- Both lists and dictionaries are part of the 'collections' module.\n",
    "- Both lists and dictionaries contain elemets that can be of any combination of data types.\n",
    "\n",
    "Differences:\n",
    "- Lists mantain order of thier elements while dictionaries are unordered.\n",
    "- Lists allow duplication while dictionary items are unique.\n",
    "- List items are accessed by index while dictionary items are accessed by keys.\n",
    "- Lists are implemented internally as variable-length arrays while dictionaries are implemented internally as resizable hash tables.\n",
    "\n",
    "Examples:\n",
    "- Use dictionaries to associate values with keys for efficient 'by key' seaching: \n",
    "  - Telephone  { 'Drake' : '1-800-468-546325464' } \n",
    "  - Address { 'Sponge Bob' : '124 Conch Street, Bikini Bottom, Pacific Ocean' }\n",
    "  - Translation  { \"EN\" : \"DE\", \"red\" : \"rot\", \"green\" : \"grün\", \"blue\" : \"blau\", \"yellow\":\"gelb\" }\n",
    "- Use lists for an ordered sequence of items:\n",
    "  - Race standings  [ 'me', 'me', 'me again', 'you' ]\n",
    "  - Instructions [ 'To add in pot:', 'shark', 'cuttlefish', 'squid', 'mantis shrimp', 'anemone' ]\n",
    "  - Sensor readings [ '0.21532', '0.98765', '1.12353', '9999.99999' ]"
   ]
  },
  {
   "cell_type": "markdown",
   "metadata": {},
   "source": [
    "### Q.2 [10 points]<br>A student wrote the following Python program to instruct the robot to move.   From the written code, answer the following:<br><br>a) Explain briefly what the student tries to do with the code. Give some numerical values in your explanation related to the speed of the robot. [3 pts]<br><br>b) How many times is the function increasePower()being called? Explain briefly how you arrived at your answer.[3 pts]<br><br>c) Explain what will happen if the sleep(2) statement is removed from the code? [4 pts]"
   ]
  },
  {
   "cell_type": "code",
   "execution_count": null,
   "metadata": {},
   "outputs": [],
   "source": [
    "from time import sleep\n",
    "from eBot import eBot\n",
    "\n",
    "ebot = eBot.eBot()\n",
    "ebot.connect() \n",
    "power = 0.1\n",
    "def increasePower(power):\n",
    "    power += 0.1\n",
    "    return power\n",
    "while power <= 1:\n",
    "    ebot.wheels(power,power)\n",
    "    sleep(2)\n",
    "    power=increasePower(power)\n",
    "ebot.disconnect()"
   ]
  },
  {
   "cell_type": "markdown",
   "metadata": {},
   "source": [
    "a) The student is trying to accelerate the robot from the speed equivalent of power = 0.1 to that of power = 1 at increments of 0.1 every 2 seconds."
   ]
  },
  {
   "cell_type": "markdown",
   "metadata": {},
   "source": [
    "b) The functions increasePower() is called 9 times. This is as there are 9 intervals between 0.1 and 1 with increment of 0.1."
   ]
  },
  {
   "cell_type": "markdown",
   "metadata": {},
   "source": [
    "c) The robot will accelerate from the speed equivalent of power 0.1 to that of power= 1 instantly. This is as without the sleep(2) command, there is virtually no delay between the sucessive increasePower() commands until the while condition of power = 1 is met."
   ]
  },
  {
   "cell_type": "markdown",
   "metadata": {},
   "source": [
    "### Q.3 [5 points]<br>Write a function norm(z1,z2,z3) that returns the Euclidean norm in 3-dimensional complex space $C^{3}$, where z1, z2,and z3 are complex numbers. The norm is calculated using the following formula: <br><br>$$ ||\\ Z\\ ||\\ :=\\ \\sqrt{z_1 \\overline{z_1}\\ +\\ z_2 \\overline{z_2}\\ +\\ z_3 \\overline{z_3}}  $$ <br> The function should return a real number rather than a complex number, and the number should be rounded to three decimal places."
   ]
  },
  {
   "cell_type": "code",
   "execution_count": null,
   "metadata": {},
   "outputs": [],
   "source": [
    "#from numpy.linalg import norm\n",
    "#normal = lambda z1, z2, z3: round(norm([z1,z2,z3]),3)\n",
    "def normal(z1,z2,z3):\n",
    "    return round(abs((z1*z1.conjugate() +z2*z2.conjugate()+ z2*z2.conjugate())**.5), 3)\n",
    "\n",
    "## TEST CASES ##\n",
    "print ('test 1')\n",
    "z1=1+3j\n",
    "z2=-1+3j\n",
    "z3=-1-3j\n",
    "ans=normal(z1,z2,z3)\n",
    "print (ans)\n",
    "print ('test 2')\n",
    "z1=1+2j\n",
    "z2=-1+2j\n",
    "z3=-1-2j\n",
    "ans=normal(z1,z2,z3)\n",
    "print (ans)\n",
    "print ('test 3')\n",
    "z1=1+1j\n",
    "z2=-1+1j\n",
    "z3=-1-1j\n",
    "ans=normal(z1,z2,z3)\n",
    "print (ans)"
   ]
  },
  {
   "cell_type": "markdown",
   "metadata": {},
   "source": [
    "### Q.4 [10 points]<br>Write a function factors(n) that takes an integer n as an input and returns a list that includes all the positive number factors of n, where n ≥ 1. The output returns the list of all the factors in an ascending order. "
   ]
  },
  {
   "cell_type": "code",
   "execution_count": 1,
   "metadata": {},
   "outputs": [
    {
     "name": "stdout",
     "output_type": "stream",
     "text": [
      "test 1\n",
      "[1, 2, 3, 6]\n",
      "test 2\n",
      "[1, 2, 3, 4, 6, 12]\n",
      "test 3\n",
      "[1, 7]\n",
      "test 4\n",
      "[1, 3, 5, 15]\n",
      "test 5\n",
      "[1, 3, 7, 21]\n",
      "test 6\n",
      "[1]\n",
      "test 7\n",
      "[1, 3, 9]\n"
     ]
    }
   ],
   "source": [
    "def factors(n):\n",
    "    return [i for i in range(1,n+1) if n % i == 0]\n",
    "\n",
    "## TEST CASES ##\n",
    "print ('test 1')\n",
    "ans=factors(6)\n",
    "print (ans)\n",
    "print ('test 2')\n",
    "ans=factors(12)\n",
    "print (ans)\n",
    "print ('test 3')\n",
    "ans=factors(7)\n",
    "print (ans)\n",
    "print ('test 4')\n",
    "ans=factors(15)\n",
    "print (ans)\n",
    "print ('test 5')\n",
    "ans=factors(21)\n",
    "print (ans)\n",
    "print ('test 6')\n",
    "ans=factors(1)\n",
    "print (ans)\n",
    "print ('test 7')\n",
    "ans=factors(9)\n",
    "print (ans)"
   ]
  },
  {
   "cell_type": "markdown",
   "metadata": {},
   "source": [
    "### Q.5 [10 points]<br>Write a function combinations(n1,n2) that takes in two integers n1 and n2, and returns a list of tuples of all possible combinations of two integers, both of which range from n1 to n2. The function also returns a second output which is the total number of all combinations.  The output combinations must start from the lower number to the higher number as shown in the expression below and in the output test cases. You are not allowed to use any built-in function that gives the same result immediately."
   ]
  },
  {
   "cell_type": "code",
   "execution_count": null,
   "metadata": {},
   "outputs": [],
   "source": [
    "def combinations(a,b):\n",
    " return([] if any([a,b])==0 else [(i,j) for i in range(a,b) for j in range(a+1,b+1) if i<j]), len([] if any([a,b])==0 else [(i,j) for i in range(a,b) for j in range(a+1,b+1) if i<j])\n",
    "\n",
    "## TEST CASES ##\n",
    "print ('test 1')\n",
    "ans=combinations(1,7)\n",
    "print (ans)\n",
    "print ('test 2')\n",
    "ans=combinations(3,5)\n",
    "print (ans)\n",
    "print ('test 3')\n",
    "ans=combinations(-1,2)\n",
    "print (ans)\n",
    "print ('test 4')\n",
    "ans=combinations(0,0)\n",
    "print (ans)"
   ]
  },
  {
   "cell_type": "markdown",
   "metadata": {},
   "source": [
    "### Q.6 [Total: 40 points]<br>Gaussian Elimination is an algorithm for solving systems of linear equations. In this question, you will write a program to perform Gaussian Elimination. Note that the indices of the rows and columns for the matrices startfrom 0. You will need to write and submit four functions: <br> a) readMatrix(f)<br> b) mulRowByC(matOp,i,c)<br>c) addRowMulByC(matOp,i,c,j)<br> d) gaussElimination(data)"
   ]
  },
  {
   "cell_type": "code",
   "execution_count": null,
   "metadata": {},
   "outputs": [],
   "source": [
    "# PART A ##\n",
    "def readMatrix(f):\n",
    "    list = []\n",
    "    output = dict()\n",
    "    for line in (f):\n",
    "        if line == 'DATA\\n':\n",
    "            continue\n",
    "        elif line == 'OP\\n':\n",
    "            output['matrix'] = list\n",
    "            list = []\n",
    "            continue\n",
    "        elif line == 'END':\n",
    "            break\n",
    "        else:\n",
    "            sublist = line.strip('\\n')\n",
    "            sublist = sublist.split(' ')\n",
    "            sublist = [float(i) for i in sublist]\n",
    "            list.append(sublist)\n",
    "    output['op'] = list\n",
    "    return output\n",
    "\n",
    "## PART C ##\n",
    "def addRowMulByC(matOp, i, c, j):\n",
    "    m = [x*c for x in matOp[int(i)]]\n",
    "    new = []\n",
    "    for x in range(len(m)):\n",
    "        new.append(m[x] + matOp[int(j)][x])\n",
    "    matOp[int(j)] = new\n",
    "    return matOp\n",
    "\n",
    "## PART B ##\n",
    "def mulRowByC(matOp, i, c):\n",
    "    return (addRowMulByC(matOp, i, c-1, i))\n",
    "\n",
    "## PART D ##\n",
    "import copy\n",
    "def gaussElimination(data):\n",
    "    matA = copy.copy(data['matrix'])\n",
    "    matOp = data['matrix']\n",
    "    operations = data['op']\n",
    "    for i in operations:\n",
    "        if len(i) == 4:\n",
    "            addRowMulByC(matOp, *(i[1:]))\n",
    "        elif len(i) == 3:\n",
    "            mulRowByC(matOp, *(i[1:]))\n",
    "    return(matA, [[round(float(i), 2) for i in nested] for nested in matOp])\n",
    "\n",
    "# OVERALL TEST CASES #\n",
    "# replace filename with either 'gauss1.txt' or 'gauss2.txt'\n",
    "f=open('/Users/[your name]/Desktop/midterm2016/midterm2016/gauss1.txt','r') #Change accordingly\n",
    "data=readMatrix(f)\n",
    "matA,result=gaussElimination(data)\n",
    "print (matA)\n",
    "print (result)\n",
    "f.close()"
   ]
  },
  {
   "cell_type": "markdown",
   "metadata": {},
   "source": [
    "### Q.7 [15 points]This question comprises of two parts: (a) Programming, and (b) Written.<br>Write a function maxProductThree(num)that returns the maximum product from any three numbers in a list of integers. The list may contain both positive, zero, negative integers,and duplicates, but the maximum product can only be either a negative or a positive number. You can assume that the list contains at least three non-zero numbers so the maximum product will never be zero."
   ]
  },
  {
   "cell_type": "markdown",
   "metadata": {},
   "source": [
    "#### Sample Solution 1: Brute Force (~30 seconds)"
   ]
  },
  {
   "cell_type": "code",
   "execution_count": null,
   "metadata": {},
   "outputs": [],
   "source": [
    "def maxProductThree(num):\n",
    " ls = []  \n",
    " for i in num:\n",
    "    for j in num:\n",
    "       if j != i: \n",
    "        for k in num:\n",
    "          if k != j and k!= i:  \n",
    "            ls.append(i*j*k)\n",
    " return max(ls)\n",
    "\n",
    "## TIMER ##    \n",
    "import time\n",
    "start_time = time.time()\n",
    "num=[6,-3,-10,0,2]\n",
    "print (maxProductThree(num))\n",
    "num = [4, -139, -848, -142, -779, 406, 899, -932, 565, -678, -197, 442, 145, -711, -495, -743, 602, 841, 312, 104, 814, 771, 772, 292, -718, -151, 503, -265, -812, 792, 209, -734, -343, -674, 129, -421, -138, 826, -739, 625, 529, 391, 367, -166, 764, -178, -104, -380, -204, 697, -471, -811, -580, 207, -980, -983, -478, -551, -591, 121, -51, -424, 922, -521, -789, 30, -121, 847, 862, -232, -669, 990, -878, 690, 408, -452, -713, -644, -163, 526, -929, 767, -174, 110, 477, 188, 575, 328, 685, 93, 596, -865, -987, -321, 28, 383, -53, 405, 271, 783, 25, -255, -885, 747, -375, -44, -515, 598, 100, 830, 915, -663, -32, 112, -686, -796, 647, -397, -592, -309, -6, -706, -47, 116, 528, 454, -201, -303, -927, -418, -177, -858, -294, -449, 738, 573, -143, -331, 392, 958, -964, 742, -472, -650, 725, 555, 34, -130, -769, 835, -659, 849, 500, -850, 933, -70, -504, -729, 366, -224, -531, 780, -974, 83, -373, 273, -956, 187, 106, 549, -961, 509, 837, 72, -785, -871, 821, -915, 676, 185, 261, -558, 692, 37, -474, -641, -498, 949, 873, 494, 582, -698, 239, -153, 186, 167, -169, 198, -754, 409, 431, 437, -4, 147, 804, 157, 35, 332, -78, 18, -483, -487, -813, 160, -210, -493, 396, 280, 97, -445, -649, -306, 56, 965, 305, 231, -690, -681, 163, 325, -862, 492, 15, -903, -685, 558, -968, 307, 768, -112, 179, 267, 781, -268, 576, -429, 63, -828, 832, -798, -85, -56, 171, 11, -579, -897, 663, -337, 463, 518, 6, -437, 820, 33, 330, -280, 745, -179, -654, -79, -301, -106, -628, 840, 486, 643, 535, 664, 438, 612, -363, -757, -503, -857, -843, 143, -661, 831, 38, -444, -494, 656, 661, -906, -803, 991, -451, 336, 283, -243, 258, 40, -863, -920, -295, 372, -621, 128, 897, -762, 253, 774, -550, 445, -349, -118, 760, -642, 534, -683, -338, -252, 809, 574, -966, -208, -392, -889, 58, 174, -619, -446, 300, 952, 434, -538, 469, -809, -205, -780, 932, 653, -72, 715, 50, -367, 220, -501, 333, -296, 892, -788, 196, 749, 375, 240, 581, -516, -396, -901, -473, -967, 560, -870, -537, 217, 646, 483, 401, 282, 592, -833, 590, -340, 813, -583, 740, -186, -45, -390, 470, -251, 127, -202, 317, 137, 998, 793, -466, 569, 732, 381, 491, 140, -573, -786, 269, 517, -119, 674]\n",
    "print (maxProductThree(num))\n",
    "print(\"--- %s seconds ---\" % (time.time() - start_time)) "
   ]
  },
  {
   "cell_type": "markdown",
   "metadata": {},
   "source": [
    "#### Sample Solution 2: Cases (~0.003 seconds)"
   ]
  },
  {
   "cell_type": "code",
   "execution_count": 38,
   "metadata": {},
   "outputs": [
    {
     "name": "stdout",
     "output_type": "stream",
     "text": []
    }
   ],
   "source": [
    "def maxProductThree(num):\n",
    " i = [i for i in sorted(num) if i != 0]\n",
    " return max([i[-3]*i[-2]*i[-1],i[-1]*i[0]*i[1]])\n",
    "\n",
    "## TIMER ##    \n",
    "import time\n",
    "start_time = time.time()\n",
    "num=[6,-3,-10,0,2]\n",
    "print (maxProductThree(num))\n",
    "num = [4, -139, -848, -142, -779, 406, 899, -932, 565, -678, -197, 442, 145, -711, -495, -743, 602, 841, 312, 104, 814, 771, 772, 292, -718, -151, 503, -265, -812, 792, 209, -734, -343, -674, 129, -421, -138, 826, -739, 625, 529, 391, 367, -166, 764, -178, -104, -380, -204, 697, -471, -811, -580, 207, -980, -983, -478, -551, -591, 121, -51, -424, 922, -521, -789, 30, -121, 847, 862, -232, -669, 990, -878, 690, 408, -452, -713, -644, -163, 526, -929, 767, -174, 110, 477, 188, 575, 328, 685, 93, 596, -865, -987, -321, 28, 383, -53, 405, 271, 783, 25, -255, -885, 747, -375, -44, -515, 598, 100, 830, 915, -663, -32, 112, -686, -796, 647, -397, -592, -309, -6, -706, -47, 116, 528, 454, -201, -303, -927, -418, -177, -858, -294, -449, 738, 573, -143, -331, 392, 958, -964, 742, -472, -650, 725, 555, 34, -130, -769, 835, -659, 849, 500, -850, 933, -70, -504, -729, 366, -224, -531, 780, -974, 83, -373, 273, -956, 187, 106, 549, -961, 509, 837, 72, -785, -871, 821, -915, 676, 185, 261, -558, 692, 37, -474, -641, -498, 949, 873, 494, 582, -698, 239, -153, 186, 167, -169, 198, -754, 409, 431, 437, -4, 147, 804, 157, 35, 332, -78, 18, -483, -487, -813, 160, -210, -493, 396, 280, 97, -445, -649, -306, 56, 965, 305, 231, -690, -681, 163, 325, -862, 492, 15, -903, -685, 558, -968, 307, 768, -112, 179, 267, 781, -268, 576, -429, 63, -828, 832, -798, -85, -56, 171, 11, -579, -897, 663, -337, 463, 518, 6, -437, 820, 33, 330, -280, 745, -179, -654, -79, -301, -106, -628, 840, 486, 643, 535, 664, 438, 612, -363, -757, -503, -857, -843, 143, -661, 831, 38, -444, -494, 656, 661, -906, -803, 991, -451, 336, 283, -243, 258, 40, -863, -920, -295, 372, -621, 128, 897, -762, 253, 774, -550, 445, -349, -118, 760, -642, 534, -683, -338, -252, 809, 574, -966, -208, -392, -889, 58, 174, -619, -446, 300, 952, 434, -538, 469, -809, -205, -780, 932, 653, -72, 715, 50, -367, 220, -501, 333, -296, 892, -788, 196, 749, 375, 240, 581, -516, -396, -901, -473, -967, 560, -870, -537, 217, 646, 483, 401, 282, 592, -833, 590, -340, 813, -583, 740, -186, -45, -390, 470, -251, 127, -202, 317, 137, 998, 793, -466, 569, 732, 381, 491, 140, -573, -786, 269, 517, -119, 674]\n",
    "print (maxProductThree(num))\n",
    "print(\"--- %s seconds ---\" % (time.time() - start_time)) "
   ]
  },
  {
   "cell_type": "markdown",
   "metadata": {},
   "source": [
    "#### b) There are only 2 potential cases: the product of the 3 largest intergers in the list or the product of the largest interger with the 2 smallest intergers from the list. The higher of the 2 cases yields the solution.  "
   ]
  }
 ],
 "metadata": {
  "kernelspec": {
   "display_name": "Python 3",
   "language": "python",
   "name": "python3"
  },
  "language_info": {
   "codemirror_mode": {
    "name": "ipython",
    "version": 3
   },
   "file_extension": ".py",
   "mimetype": "text/x-python",
   "name": "python",
   "nbconvert_exporter": "python",
   "pygments_lexer": "ipython3",
   "version": "3.7.1"
  }
 },
 "nbformat": 4,
 "nbformat_minor": 2
}
