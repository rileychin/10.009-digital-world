{
 "cells": [
  {
   "cell_type": "markdown",
   "metadata": {},
   "source": [
    "Today we will be going through mainly __Week 4 to Week 6__ \n",
    "\n"
   ]
  },
  {
   "cell_type": "markdown",
   "metadata": {},
   "source": [
    "# Week 4"
   ]
  },
  {
   "cell_type": "markdown",
   "metadata": {},
   "source": [
    "__Week 4: Lists__\n"
   ]
  },
  {
   "cell_type": "code",
   "execution_count": null,
   "metadata": {
    "scrolled": true
   },
   "outputs": [],
   "source": [
    "newList=[]\n",
    "\n",
    "newList.append(5)#append(value) adds value at the end\n",
    "newList.append(23)\n",
    "print(newList)\n",
    "\n",
    "newList.insert(1,2) #insert(index,value)\n",
    "print(newList)\n",
    "\n",
    "\n",
    "\n",
    "newList.reverse() #reverses list\n",
    "print(newList)\n",
    "\n",
    "newList.sort() #sorts in order of increament including alphabets\n",
    "print(newList)\n",
    "\n",
    "print(sorted(newList)) #sorted returns a new list of sorted list\n",
    "\n",
    "newList*=2 #repeats elements within the list\n",
    "print(newList)\n",
    "\n",
    "newList.remove(5)#removes 5 when first seen\n",
    "print(newList)\n",
    "\n",
    "item=newList.pop() \n",
    "#pop() removes and returns the last item unless index is specified\n",
    "print(item)\n",
    "\n",
    "del newList[0] #deletes the item given by newList[index]\n",
    "print(newList)\n"
   ]
  },
  {
   "cell_type": "code",
   "execution_count": null,
   "metadata": {},
   "outputs": [],
   "source": [
    "#Slicing\n",
    "l = [1,2,3] \n",
    "print(l[1:1]) #[a:b] start at index a, end before b\n",
    "\n",
    "l[1:1]=[0] #adds element at index to 0 \n",
    "print(l)\n",
    "\n",
    "l = [1,2,3]\n",
    "l[1:3] = [0] #[1:3] start at index 1, end before 3 (2) \n",
    "#it takes the partial list and changes to [0]\n",
    "print(l)\n",
    "\n",
    "\n",
    "#step in lists\n",
    "b=[1,2,3,4,5,6]\n",
    "print(b[4::-1]) #start at index 4 , go back by 1 till the start"
   ]
  },
  {
   "cell_type": "markdown",
   "metadata": {},
   "source": [
    "All variables/value-types have __unique ids__ created when they are assigned\n",
    "\n",
    "This mean that when they are created, a id is created within the memory to remember where to look for value\n",
    "\n",
    "This is similar to how dictionaries work\n",
    "\n",
    "ID---->variable/value-type---> get value\n"
   ]
  },
  {
   "cell_type": "code",
   "execution_count": null,
   "metadata": {},
   "outputs": [],
   "source": [
    "#normal assignment operation =\n",
    "\n",
    "x=[1,2,3]\n",
    "y=x\n",
    "print(id(x),id(y))\n",
    "\n",
    "print(x)\n",
    "y+=[5] #adds 5 to same id  of x ---> value @ id changes---> both x & y changes\n",
    "print(x)"
   ]
  },
  {
   "cell_type": "markdown",
   "metadata": {},
   "source": [
    "Therefore, we need to prevent this referencing when intending to copy lists"
   ]
  },
  {
   "cell_type": "code",
   "execution_count": null,
   "metadata": {},
   "outputs": [],
   "source": [
    "#shallow copying with list\n",
    "import copy\n",
    "z = [4,5,6]\n",
    "w = copy.copy(z)\n",
    "print(\"z is w\",z is w)\n",
    "\n",
    "#shallow copying with list of list\n",
    "\n",
    "a=[1,2,3]\n",
    "b=[4,5,6]\n",
    "c=[a,b]\n",
    "d=copy.copy(c)\n",
    "c[0].append(5)\n",
    "print(c is d,c[0] is d[0],d)\n"
   ]
  },
  {
   "cell_type": "markdown",
   "metadata": {},
   "source": [
    "Shallow copy makes a new reference/ID to the variable as a whole\n",
    "However, it only does it on the outer level, inner levels such as objects in list of lists still contain references instead of their actual value\n",
    "\n",
    "In the above case,\n",
    "\n",
    "(id*)  c=[list1,list2]\n",
    "\n",
    "(id**) d=[list1,list2]\n",
    "\n",
    "\n",
    "(id*)  c=[[id1,id2,id3],[id4,id5,id6]]\n",
    "\n",
    "(id**) d=[[id1,id2,id3],[id4,id5,id6]]"
   ]
  },
  {
   "cell_type": "code",
   "execution_count": null,
   "metadata": {},
   "outputs": [],
   "source": [
    "#deep copy with lists\n",
    "\n",
    "y = [4,5,6]\n",
    "z = [y,7]\n",
    "w = copy.deepcopy(z)\n",
    "print(w is z)\n",
    "print(w[0] is y)\n",
    "\n"
   ]
  },
  {
   "cell_type": "markdown",
   "metadata": {},
   "source": [
    "Deep Copy not only makes a new reference/ID as a whole.\n",
    "It also makes one for every element within the lists\n",
    "\n",
    "(id*)  c=[list1,list2]\n",
    "\n",
    "(id**) d=[list3,list4]\n",
    "\n",
    "\n",
    "(id*)  c=[[id1,id2,id3],[id4,id5,id6]]\n",
    "\n",
    "(id**) d=[[id7,id8,id9],[id10,id11,id12]]"
   ]
  },
  {
   "cell_type": "code",
   "execution_count": null,
   "metadata": {},
   "outputs": [],
   "source": [
    "#For loops and more complicated cases:\n",
    "questions = ['apple', 'banana', 'carrot', 'durian']\n",
    "ans = [1,2,3,4]\n",
    "for q,a in zip(questions,ans): #zip helps to put question[0] and answer[0] together\n",
    "    print(\"How many {0}s are there? {1} {0}\".format(q,a)) #format(index0,index1)\n",
    "\n",
    "print(list(zip(questions,ans)))"
   ]
  },
  {
   "cell_type": "markdown",
   "metadata": {},
   "source": [
    "Don't forget __Strings__ are __lists of Characters!__"
   ]
  },
  {
   "cell_type": "markdown",
   "metadata": {},
   "source": [
    "__Week 4: Dictionaries__"
   ]
  },
  {
   "cell_type": "markdown",
   "metadata": {},
   "source": [
    "Dictionaries are basically the same as lists\n",
    "\n",
    "But instead of __index__, they use a __key__ which is usually a int or string"
   ]
  },
  {
   "cell_type": "code",
   "execution_count": null,
   "metadata": {},
   "outputs": [],
   "source": [
    "fruits={'orange':1,'apple':0}\n",
    "fruits['apple']=3 # assign new values\n",
    "fruits['orange']+=1 # can add values\n",
    "fruits['banana']=1 # add new key-value data\n",
    "\n",
    "print(fruits)"
   ]
  },
  {
   "cell_type": "code",
   "execution_count": null,
   "metadata": {},
   "outputs": [],
   "source": [
    "#combining two dictionaries:\n",
    "vegetables={'spinach':1}\n",
    "total = {**fruits,**vegetables}\n",
    "print(total.items())\n",
    "\n",
    "#methods for dictionary:\n",
    "for name,num in total.items():\n",
    "    print(name,num)\n",
    "\n",
    "print(total.keys()) #return list of names\n",
    "print(total.values()) #return list of num\n",
    "\n",
    "new_v = {'brocolli':4}\n",
    "total.update(new_v) #adds new dictionary to the dictionary\n",
    "print(total)\n",
    "\n",
    "del total['apple'] #del key and value\n",
    "print(total)"
   ]
  },
  {
   "cell_type": "markdown",
   "metadata": {},
   "source": [
    "# Week 5-6"
   ]
  },
  {
   "cell_type": "markdown",
   "metadata": {},
   "source": [
    "__Week 5__: Modularity"
   ]
  },
  {
   "cell_type": "markdown",
   "metadata": {},
   "source": [
    "Modularity is the idea of splitting up bigger problems into smaller problems.\n",
    "\n",
    "Usage of functions help us split up the work into smaller bites and makes it easier to troubleshoot also\n",
    "\n",
    "Think of it as if a manager delegates specific work to many people instead of the full project to 1 or 2 people"
   ]
  },
  {
   "cell_type": "markdown",
   "metadata": {},
   "source": [
    "__Week 6__ : String and Substrings"
   ]
  },
  {
   "cell_type": "code",
   "execution_count": null,
   "metadata": {},
   "outputs": [],
   "source": [
    "#while loop to iterate over string and list:\n",
    "st = \"abcd\"\n",
    "while st:\n",
    "    print(st)\n",
    "    st = st[1:] #list from index 1\n",
    "    \n",
    "lst = [1,2,3,4]\n",
    "while lst:\n",
    "    print(lst)\n",
    "    lst = lst[1:]"
   ]
  },
  {
   "cell_type": "code",
   "execution_count": null,
   "metadata": {},
   "outputs": [],
   "source": [
    "#placeholders and string format:\n",
    "st = \"1234567890\"\n",
    "fl = 0.0123456\n",
    "print(\"*{:>11}*\".format(st)) #11 spaces then shift to right > look at arrowhead \n",
    "print(\"*{:<15.9f}*\".format(fl)) #15 spaces round down then shift left"
   ]
  },
  {
   "cell_type": "code",
   "execution_count": null,
   "metadata": {},
   "outputs": [],
   "source": [
    "st1=\"vocareum is Bad\"\n",
    "st1 = st1.replace(\"B\",\"b\")\n",
    "st1 = st1.replace(\"bad\", \"the absolute worst idea\")\n",
    "print(st1)\n",
    "\n",
    "st = \"881234\"\n",
    "print(st.isnumeric()) #returns a boolean for numeric\n",
    "st = \"ChanDrima\"\n",
    "print(st.isalpha()) #returns a boolean for alphabets\n",
    "st = \"123abcDEF\"\n",
    "print(st.isalnum()) #returns a boolean for alphanumeric\n",
    "\n",
    "string=\"3.007 could Have Been Better\"\n",
    "stup=string.upper()\n",
    "stlow=string.lower()\n",
    "print(stup+'\\n'+stlow)\n",
    "\n",
    "finder=string.find('could') #gets start index of the string\n",
    "print(finder)\n",
    "\n",
    "splitter=string.split(\" \") \n",
    "#find the string and put the rest in between them into a list\n",
    "print(splitter)\n",
    "\n",
    "string=\"\\n\\tOKA please save us\\n\"\n",
    "strip1 = string.strip(\"\\n\\t\")\n",
    "print(strip1)\n",
    "strip1 = string.split()\n",
    "print(\"\".join(strip1))"
   ]
  },
  {
   "cell_type": "markdown",
   "metadata": {},
   "source": [
    "__Week 6__: File I/O"
   ]
  },
  {
   "cell_type": "markdown",
   "metadata": {},
   "source": [
    "File methods:\n",
    "\n",
    "fi.write(astring)\n",
    "- Add astring to the end of the file. fi must refer to a file that has been opened for writing.\n",
    "    \n",
    "fi.read()\n",
    "- Reads and returns a string of n characters, or the entire file as a single string if n is not provided.\n",
    "\n",
    "fi.readline()\t\n",
    "- Returns the next line of the file with all text up to and including the newline character. If n is provided as a parameter than only n characters will be returned if the line is longer than n.\n",
    "\n",
    "fi.readlines()\n",
    "- Returns a list of strings, each representing a single line of the file. If n is not provided then all lines of the file are returned. If n is provided then n characters are read but n is rounded up so that an entire line is returned.\n"
   ]
  },
  {
   "cell_type": "code",
   "execution_count": null,
   "metadata": {},
   "outputs": [],
   "source": [
    "#open text file and readline:\n",
    "\n",
    "path=\"mrt.txt\"\n",
    "\n",
    "f = open(path,\"r\")\n",
    "line = f.readline()\n",
    "firstline=line.strip() #remove leading and trailing characters\n",
    "f.close()\n",
    "print(\"*{}*\".format(line))\n",
    "print(type(line))"
   ]
  },
  {
   "cell_type": "markdown",
   "metadata": {},
   "source": [
    "path=r\"C:\\Users\\Caleb Foo\\Documents\\School\\3DC\\midterm\\mrtlines.txt\"\n",
    "with open(path,\"r\") as fi, open(new,\"w\") as newfi: #dont need to close file\n",
    "    for fil in fi:\n",
    "\n",
    "        line = fil.strip().split(', ')\n",
    "        marks = line[1:]\n",
    "        \n",
    "        print(\"{:s}'s average is {:.1f}\".format(line[0],avg))\n",
    "        newli = line[0]+' '+'{:.1f}'.format(avg)+'\\n'\n",
    "        newfi.write(newli)"
   ]
  },
  {
   "cell_type": "markdown",
   "metadata": {},
   "source": [
    "# SELECTED QUESTIONS"
   ]
  },
  {
   "cell_type": "markdown",
   "metadata": {},
   "source": [
    "The number 3, 5, 6, and 9 are all integers below 10 that are multiples of either 3 or 5; the sum of 3, 5, 6, 9 is 23. Similarly, 2, 4, 6, 8, 10 are all integers below 12 that are multiples of either 2 or 4; the sum of 2, 4, 6, 8, 10 is 30. \n",
    "\n",
    "Write a function mysum(a,b,limit) that accepts three arguments: a, b and limit. The arguments a and b are integers greater than zero and lesser than limit. The function mysum(a,b,limit) should return the sum of all the multiples of a or b, the multiples being lesser than limit. If the user enters a or b to be less than zero or non-integers, the function should return the error message “Wrong input” as a string."
   ]
  },
  {
   "cell_type": "code",
   "execution_count": null,
   "metadata": {},
   "outputs": [],
   "source": [
    "import copy\n",
    "\n",
    "def mysum(a,b,limit):\n",
    "    #enter code here\n",
    "    #1.set limit for full range\n",
    "    #2.set list for multiple of numbers\n",
    "\n"
   ]
  },
  {
   "cell_type": "code",
   "execution_count": null,
   "metadata": {},
   "outputs": [],
   "source": [
    "assert(mysum(3, 5, 10))==23\n",
    "assert(mysum(2,4,12))==42\n",
    "assert(mysum(3,3,15))==60\n",
    "assert(mysum(7,9,100))==1329\n",
    "assert(mysum(21,34,10000))==3858456\n",
    "assert(mysum(0, 5, 10))=='Wrong input'\n",
    "assert(mysum(0.5, 5, 10))=='Wrong input'\n",
    "assert(mysum(3, 'x', 10))=='Wrong input'\n",
    "assert(mysum(3, -5, 10)) == 'Wrong input'\n",
    "assert(mysum(2, 3, 0))==0"
   ]
  },
  {
   "cell_type": "code",
   "execution_count": null,
   "metadata": {},
   "outputs": [],
   "source": [
    "#alternative answer\n",
    "def mysum2(a,b,limit):\n",
    "    \n",
    "    #Input your code below\n"
   ]
  },
  {
   "cell_type": "markdown",
   "metadata": {},
   "source": [
    "Write a function matAdd(A, B) to compute the sum of two matrices A and B.\n",
    "\n",
    "Specifically, given two mxn matrices A = [aij], B = [bij], __matAdd(A, B) returns a new matrix C = A + B.__\n",
    "That is, C = [cij] is a mxn matrix, cij = aij + bij. \n",
    "\n",
    "You can assume A and B are always mxn.  \n",
    "\n",
    "Note that you need to return a new matrix C that does not have any aliasing with the input matrices A and B. The mxn matrices A, B and C are represented by Python nested lists.  \n",
    "\n",
    "Each matrix is a nested list that has m entries, each entry is a list that represents a row of the matrix. "
   ]
  },
  {
   "cell_type": "code",
   "execution_count": null,
   "metadata": {},
   "outputs": [],
   "source": [
    "def matAdd(A, B):\n",
    "    #enter code below\n",
    "   \n",
    "    #1.get rows of matrix\n",
    "    #2.apply addtition operation to both concurrently"
   ]
  },
  {
   "cell_type": "markdown",
   "metadata": {},
   "source": [
    "Write and submit two functions named getMRT(f) and distance(d,s). \n",
    "A test() function is given to you at the end of this question. You may use test() to test getMRT(f) and distance(d,s) before submitting them."
   ]
  },
  {
   "cell_type": "markdown",
   "metadata": {},
   "source": [
    "This function takes a ﬁle object f as input (NOT the name of a ﬁle, but a ﬁle object). \n",
    "\n",
    "The ﬁle pointed to by f contains several lines of data as shown in the sample test case below. \n",
    "\n",
    "Each line in the ﬁle contains a string r and a list st, where r denotes the name of an MRT line in Singapore (e.g., EW Line (Green)) and st is a partial list of names of stations on that line. \n",
    "Names of the MRT line and each station are separated by a comma (,).\n",
    "\n",
    "The __getMRT(f)__ function reads data from the ﬁle and returns a dictionary in which each entry has the value of r as the key and a list containing the station names as the value corresponding to this key. \n",
    "\n",
    "(Note: Use the Python strip() function to remove the \\n from the last element of each list in the dictionary.)\n"
   ]
  },
  {
   "cell_type": "code",
   "execution_count": null,
   "metadata": {},
   "outputs": [],
   "source": [
    "def getMRT(f):\n",
    "    #create new dict\n",
    "    #read the text from file object and split by line\n",
    "    #split line into individual stations"
   ]
  },
  {
   "cell_type": "markdown",
   "metadata": {},
   "source": [
    "__Distance(d, s)__\n",
    "\n",
    "This function takes as input a dictionary d created by getMRT(f) and the names of two MRT stations in string s. The station names in s are separated by a comma.\n",
    "\n",
    "If the two stations are on the same MRT line then the function returns the distance between these two stations in terms of the number of stops between them that includes the last stop at the destination station. If the stations are not on the same MRT line then the function returns -1. If the user provides only one station, then a -1 is returned. The function returns -2 if s is empty. \n",
    "\n",
    "Note: If you wish, you may use the following Python function to test getMRT(f) and distance(d,s) prior to submitting these two functions."
   ]
  },
  {
   "cell_type": "code",
   "execution_count": null,
   "metadata": {},
   "outputs": [],
   "source": [
    "def distance(d,s):\n",
    "    #get stations from string\n",
    "    #apply coniditional cases\n",
    "    #get mrt line from key and value through for loop\n",
    "    #get difference from index\n"
   ]
  },
  {
   "cell_type": "markdown",
   "metadata": {},
   "source": [
    "for path in open(\"PATH\",\"r\")\n",
    "\n",
    "input your own path behind the file name to where the file is located at"
   ]
  },
  {
   "cell_type": "code",
   "execution_count": null,
   "metadata": {},
   "outputs": [],
   "source": [
    "def test():\n",
    "    f=open(r'mrt.txt',\"r\")\n",
    "    d=getMRT(f)\n",
    "    done=False\n",
    "    while not done:\n",
    "        a=input(\"Two stations please:\")\n",
    "        dist=distance(d,a)\n",
    "        if dist!=-2:\n",
    "            print(dist)\n",
    "        else:\n",
    "            done=True\n",
    "    print(\"Bye!\")\n",
    "    f.close()\n",
    "    \n",
    "test()"
   ]
  },
  {
   "cell_type": "markdown",
   "metadata": {},
   "source": [
    "In this question, you will need to write and submit three functions:\n",
    "\n",
    "getSchedule(f) \n",
    "\n",
    "findLength(dictSchedule) \n",
    "\n",
    "findConflict(dictSchedule) "
   ]
  },
  {
   "cell_type": "markdown",
   "metadata": {},
   "source": [
    "__getSchedule(f)__\n",
    "\n",
    "This function takes a file object f as input (NOT the name of a file, but a file object).  The file referred by f contains several lines of data (see the example file and test case below).  The file consists of multiple schedules.  Each schedule begins with a string, on a line by itself denoting the day of a week.  After that the following lines give the start and end times of each event in that day.  Each event has the starting time (in hour) and the finishing time (in hour), on a line by itself.  The end time is guaranteed to be strictly after the start time.  The time is in 24-hour format. \n",
    "\n",
    "\n",
    "Example file: \n",
    "\n",
    "Wednesday \n",
    "6 8 \n",
    "Thursday \n",
    "7 11 \n",
    "10 13 \n",
    "\n",
    "This example file contains the schedules for Wednesday and Thursday.  Wednesday’s schedule has one event: 6:00 to 8:00.  Thursday’s schedule has two events: 7:00 to 11:00, and 10:00 to 13:00. \n",
    "\n",
    "In general, the file may contain up to seven schedules for each day of a week.  Each schedule contains at least one event. The function getSchedule(f) reads data from the file and returns a dictionary.  In the returned dictionary, each entry (key-value pair) represents one schedule.  In particular, each entry has the day of the week as the key (string data type), and a list containing all the events as the value corresponding to this key.  Each event is a tuple of starting time (int data type) and finishing time (int data type).  "
   ]
  },
  {
   "cell_type": "code",
   "execution_count": null,
   "metadata": {},
   "outputs": [],
   "source": [
    "def getSchedule(f):\n",
    "    #enter code below\n",
    "\n"
   ]
  },
  {
   "cell_type": "code",
   "execution_count": null,
   "metadata": {},
   "outputs": [],
   "source": [
    "f=open('data1.txt','r')\n",
    "assert(getSchedule(f))=={'Tuesday': [(12, 16), (9, 12), (15, 18), (19, 21)], 'Thursday': [(7, 11), (10, 13)], 'Wednesday': [(6, 8)], 'Monday': [(9, 11), (12, 14), (11, 12)]}\n",
    "f.close()"
   ]
  },
  {
   "cell_type": "markdown",
   "metadata": {},
   "source": [
    "__findLength(dictSchedule):__ \n",
    "\n",
    "This function takes as input a dictionary dictSchedule created by getSchedule(f) and returns a dictionary.  The function computes the total length (in hour) of the events for each day (see the test case below).  In the returned dictionary, each entry has the day of the week as the key (string data type), and the total length of daily events in hour (int data type) as the value corresponding to this key. "
   ]
  },
  {
   "cell_type": "code",
   "execution_count": null,
   "metadata": {},
   "outputs": [],
   "source": [
    "def findLength(dictSchedule):\n",
    "    #enter code below\n",
    "\n"
   ]
  },
  {
   "cell_type": "code",
   "execution_count": null,
   "metadata": {},
   "outputs": [],
   "source": [
    "assert(findLength({'Tuesday': [(12, 16), (9, 12), (15, 18), (19, 21)], 'Thursday': [(7, 11), (10, 13)], 'Wednesday': [(6, 8)], 'Monday': [(9, 11), (12, 14), (11, 12)]}))== {'Tuesday': 12, 'Monday': 5, 'Wednesday': 2, 'Thursday': 7} "
   ]
  },
  {
   "cell_type": "markdown",
   "metadata": {},
   "source": [
    "__findConflict(dictSchedule):__\n",
    "\n",
    "This function takes as input a dictionary dictSchedule created by getSchedule(f) and returns a dictionary.  The function checks if there is any conflict for the events of each day (see the test case below).  A schedule has conflict if the duration of any of the events overlaps with another one of the same day. \n",
    "\n",
    "In the returned dictionary, each entry has the day of the week as the key (string data type).  The value corresponding to this key is a boolean value that indicates if there is any event conflict in that day, i.e. True if there is at least one conflict, False if there is no conflict for the daily events. Test "
   ]
  },
  {
   "cell_type": "code",
   "execution_count": null,
   "metadata": {},
   "outputs": [],
   "source": [
    "def findConflict(dictSchedule):\n",
    "    #enter code below\n",
    "\n"
   ]
  },
  {
   "cell_type": "code",
   "execution_count": null,
   "metadata": {},
   "outputs": [],
   "source": [
    "a={'Tuesday': [(12, 16), (9, 12), (15, 18), (19, 21)], 'Thursday': [(7, 11), (10, 13)], 'Wednesday': [(6, 8)], 'Monday': [(9, 11), (12, 14), (11, 12)]} \n",
    "assert(findConfict(a))=={'Tuesday': True, 'Monday': False, 'Wednesday': False, 'Thursday': True} "
   ]
  }
 ],
 "metadata": {
  "kernelspec": {
   "display_name": "Python 3",
   "language": "python",
   "name": "python3"
  },
  "language_info": {
   "codemirror_mode": {
    "name": "ipython",
    "version": 3
   },
   "file_extension": ".py",
   "mimetype": "text/x-python",
   "name": "python",
   "nbconvert_exporter": "python",
   "pygments_lexer": "ipython3",
   "version": "3.7.1"
  }
 },
 "nbformat": 4,
 "nbformat_minor": 2
}
