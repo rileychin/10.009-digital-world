{
 "cells": [
  {
   "cell_type": "markdown",
   "metadata": {
    "colab_type": "text",
    "id": "H0fnDIXnR_rX"
   },
   "source": [
    "## Week 10 -- Regression & Binary Classification\n",
    "Learning Objectives:\n",
    "\n",
    "\n",
    "*   Plot and analyse data using MatplotLib\n",
    "*   Get familiar with Numpy\n",
    "*   Understand how linear regression and multiple regressions works\n",
    "*   Understand how K-NN algorithm works\n",
    "*   Use SKlearn to perform regression and binary classification using KNN\n",
    "\n"
   ]
  },
  {
   "cell_type": "markdown",
   "metadata": {
    "colab_type": "text",
    "id": "oguqX5hySnVQ"
   },
   "source": [
    "# Question 2\n",
    "Five number summary\n",
    "* The function is to take in a 2D numpy array\n",
    "* If it is otherwise, it is to return None \n",
    "* Plotting the boxplot is made an optional part of the question. \n",
    "* There is no need to submit the code for the boxplot\n",
    "\n",
    "Students should plot the boxplot first, students do not need to submit this code. \n"
   ]
  },
  {
   "cell_type": "code",
   "execution_count": 2,
   "metadata": {
    "colab": {
     "base_uri": "https://localhost:8080/",
     "height": 370
    },
    "colab_type": "code",
    "id": "eo-ukZttR0V4",
    "outputId": "0817acd5-2d08-4165-dfc0-6837f82bab42"
   },
   "outputs": [
    {
     "data": {
      "image/png": "[encoded data removed]",
      "text/plain": [
       "<Figure size 432x288 with 1 Axes>"
      ]
     },
     "metadata": {
      "needs_background": "light"
     },
     "output_type": "display_data"
    },
    {
     "name": "stdout",
     "output_type": "stream",
     "text": [
      "TEST 1----\n",
      "[{'minimum': 9.71, 'first quartile': 16.17, 'median': 18.84, 'third quartile': 21.8, 'maximum': 39.28}]\n",
      "TEST 2----\n",
      "[[ 17.99  10.38 122.8 ]\n",
      " [ 20.57  17.77 132.9 ]\n",
      " [ 19.69  21.25 130.  ]\n",
      " ...\n",
      " [ 16.6   28.08 108.3 ]\n",
      " [ 20.6   29.33 140.1 ]\n",
      " [  7.76  24.54  47.92]]\n",
      "[{'minimum': 6.981, 'first quartile': 11.7, 'median': 13.37, 'third quartile': 15.78, 'maximum': 28.11}, {'minimum': 9.71, 'first quartile': 16.17, 'median': 18.84, 'third quartile': 21.8, 'maximum': 39.28}, {'minimum': 43.79, 'first quartile': 75.17, 'median': 86.24, 'third quartile': 104.1, 'maximum': 188.5}]\n",
      "=====END OF QN 2======\n"
     ]
    }
   ],
   "source": [
    "import numpy as np\n",
    "import matplotlib.pyplot as plt\n",
    "from matplotlib.colors import ListedColormap\n",
    "from sklearn import neighbors, datasets\n",
    "from sklearn.metrics import confusion_matrix\n",
    "\n",
    "bunchobject = datasets.load_breast_cancer()\n",
    "#bunchobject.data is like 2D array with 569 rows and \n",
    "first_column = bunchobject.data[:,[1]]\n",
    "plt.boxplot(first_column)\n",
    "plt.show()\n",
    "\n",
    "\n",
    "def five_number_summary(x):\n",
    "    '''takes in a numpy array \n",
    "    returns a five number summary for each column \n",
    "    as a dictionary'''\n",
    "\n",
    "    row, column = x.shape\n",
    "    output = []\n",
    "\n",
    "    for i in range(column): # this will iterate from 1st column to nth column\n",
    "        five_number_dictionary = {\n",
    "            'minimum': np.min(x[:,i]), \n",
    "            'first quartile': np.percentile(x[:,i], 25),\n",
    "            'median': np.median(x[:,i]),\n",
    "            'third quartile': np.percentile(x[:,i],75),\n",
    "            'maximum': np.max(x[:,i])\n",
    "        }\n",
    "        output.append(five_number_dictionary)\n",
    "\n",
    "    return output\n",
    "\n",
    "\n",
    "\n",
    "print(\"TEST 1----\")\n",
    "first_column = bunchobject.data[:,[1]]\n",
    "print( five_number_summary(first_column) ) \n",
    "\n",
    "print(\"TEST 2----\")\n",
    "col_no = [0,1,2]\n",
    "some_columns = bunchobject.data[:,col_no]\n",
    "print( five_number_summary(some_columns) )\n",
    "\n",
    "print(\"=====END OF QN 2======\")"
   ]
  },
  {
   "cell_type": "markdown",
   "metadata": {
    "colab_type": "text",
    "id": "OesPOWgHYggO"
   },
   "source": [
    "## Question 3\n",
    "Min/Max normalization <br>\n",
    "The students ought to be able to work this out from a linear equation. <br>\n",
    "In any case, the formula is x* = (x - xmin)/(xmax - xmin) \n"
   ]
  },
  {
   "cell_type": "code",
   "execution_count": 3,
   "metadata": {
    "colab": {
     "base_uri": "https://localhost:8080/",
     "height": 34
    },
    "colab_type": "code",
    "id": "7XWGV7o1Yft7",
    "outputId": "218d7d43-1964-45b7-d717-c7706f0956f5"
   },
   "outputs": [
    {
     "name": "stdout",
     "output_type": "stream",
     "text": [
      "(569, 1)\n"
     ]
    }
   ],
   "source": [
    "def normalize_minmax(data):\n",
    "    \n",
    "    return None\n",
    "\n",
    "\n",
    "\n",
    "first_column = bunchobject.data[:,[1]]\n",
    "print(first_column.shape)\n",
    "xx = normalize_minmax(first_column)\n",
    "# print('normalized', five_number_summary(xx))\n",
    "\n",
    "\n",
    "cols = [1, 7]\n",
    "some_columns = bunchobject.data[:,cols]\n",
    "snorm = normalize_minmax(some_columns)\n",
    "# print('normalized', five_number_summary(snorm))"
   ]
  },
  {
   "cell_type": "markdown",
   "metadata": {
    "colab_type": "text",
    "id": "6yN1Ga_1Yvh4"
   },
   "source": [
    "# Question 4\n",
    "k-Nearest Neighbours classification\n",
    "\n",
    "students should plot a bar chart at the beginning of this question\n",
    "\n",
    "No need to submit to vocareum"
   ]
  },
  {
   "cell_type": "code",
   "execution_count": 2,
   "metadata": {
    "colab": {
     "base_uri": "https://localhost:8080/",
     "height": 298
    },
    "colab_type": "code",
    "id": "ItNwbMfyY0va",
    "outputId": "d6f8a5e0-4e96-4779-ad6b-3b47706a0089"
   },
   "outputs": [
    {
     "data": {
      "image/png": "[encoded data removed]",
      "text/plain": [
       "<Figure size 432x288 with 1 Axes>"
      ]
     },
     "metadata": {
      "tags": []
     },
     "output_type": "display_data"
    },
    {
     "name": "stdout",
     "output_type": "stream",
     "text": [
      "None\n"
     ]
    }
   ],
   "source": [
    "def display_bar_chart(positions, counts, names, title_name='default' ):\n",
    "    \n",
    "    plt.bar(positions, counts, align='center')\n",
    "    plt.xticks(positions, names)\n",
    "    plt.title(title_name)\n",
    "    plt.show()\n",
    "\n",
    "\n",
    "\n",
    "\n",
    "unique, counts = np.unique(bunchobject.target, return_counts = True)\n",
    "display_bar_chart(unique, counts, bunchobject.target_names)\n",
    "\n",
    "\n",
    "\n",
    "from sklearn.model_selection import train_test_split \n",
    "\n",
    "def knn_classifier(bunchobject, feature_list, size, seed , k ): \n",
    "    \n",
    "    return None\n",
    "\n",
    "\n",
    "\n",
    "features = range(20) #specifying that the first 20 features are included in the model\n",
    "results = knn_classifier(bunchobject, features, 0.40, 2752, 3)\n",
    "print(results)\n",
    "\n"
   ]
  },
  {
   "cell_type": "markdown",
   "metadata": {
    "colab_type": "text",
    "id": "u7cI0iENY4gM"
   },
   "source": [
    "# Question 5\n",
    "Display scatter and perform linear regression using SKlearn"
   ]
  },
  {
   "cell_type": "code",
   "execution_count": 10,
   "metadata": {
    "colab": {
     "base_uri": "https://localhost:8080/",
     "height": 574
    },
    "colab_type": "code",
    "id": "jFi1ZydaY-7f",
    "outputId": "6671a967-eddb-4ee9-94a6-19a72c0f06c5"
   },
   "outputs": [
    {
     "data": {
      "image/png": "[encoded data removed]",
      "text/plain": [
       "<Figure size 432x288 with 1 Axes>"
      ]
     },
     "metadata": {
      "needs_background": "light"
     },
     "output_type": "display_data"
    },
    {
     "name": "stderr",
     "output_type": "stream",
     "text": [
      "C:\\src\\Anaconda\\lib\\site-packages\\ipykernel_launcher.py:36: DataConversionWarning: A column-vector y was passed when a 1d array was expected. Please change the shape of y to (n_samples,), for example using ravel().\n"
     ]
    },
    {
     "data": {
      "image/png": "[encoded data removed]",
      "text/plain": [
       "<Figure size 432x288 with 1 Axes>"
      ]
     },
     "metadata": {
      "needs_background": "light"
     },
     "output_type": "display_data"
    }
   ],
   "source": [
    "\n",
    "\n",
    "def display_scatter(x,y, xlabel='x', ylabel='y',title_name ='default'): \n",
    "    plt.scatter(x,y)\n",
    "    plt.xlabel(xlabel)\n",
    "    plt.ylabel(ylabel)\n",
    "    plt.title(title_name)\n",
    "    plt.show()\n",
    "\n",
    "\n",
    "x_index = 0\n",
    "y_index = 3\n",
    "\n",
    "x = bunchobject.data[:,x_index] \n",
    "y = bunchobject.data[:,y_index]\n",
    "\n",
    "x_label = bunchobject.feature_names[x_index]\n",
    "y_label = bunchobject.feature_names[y_index]\n",
    "\n",
    "display_scatter(x,y,x_label,y_label)\n",
    "\n",
    "\n",
    "from sklearn import linear_model \n",
    "from sklearn.metrics import mean_squared_error, r2_score\n",
    "from sklearn.model_selection import train_test_split\n",
    "from sklearn import ensemble\n",
    "\n",
    "\n",
    "def linear_regression(bunchobject, x_index, y_index, size, seed):\n",
    "    \n",
    "    data = bunchobject.data \n",
    "    x = data[:, np.newaxis, x_index]\n",
    "    y = data[:, np.newaxis, y_index]\n",
    "\n",
    "    x_train, x_test, y_train, y_test = train_test_split( x , y , test_size = size, random_state = seed)\n",
    "    \n",
    "    regr = ensemble.RandomForestRegressor(n_estimators=100)\n",
    "    regr.fit(x_train, y_train)\n",
    "    y_pred = regr.predict(x_test)\n",
    "\n",
    "    mse = mean_squared_error(y_test, y_pred)\n",
    "    var = r2_score(y_test, y_pred)\n",
    "\n",
    "    return x_train, y_train, x_test, y_pred\n",
    "\n",
    "\n",
    "\n",
    "def plot_linear_regression(x1, y1, x2, y2, x_label='', y_label=''):\n",
    "    plt.scatter(x1,y1, color='black')\n",
    "    plt.scatter(x2,y2, color='blue')\n",
    "    plt.xlabel(x_label)\n",
    "    plt.ylabel(y_label)\n",
    "    plt.show() \n",
    "\n",
    "\n",
    "x_train, y_train, x_test, y_pred = linear_regression(bunchobject,0,3,0.4,2752)\n",
    "plot_linear_regression(x_train, y_train, x_test, y_pred, \n",
    "                        bunchobject.feature_names[0], \n",
    "                        bunchobject.feature_names[3])\n",
    "\n",
    "# try:\n",
    "#     x_train, y_train, x_test, y_pred, results = linear_regression(bunchobject,0,3,0.4,2752)\n",
    "#     print(results)\n",
    "#     plot_linear_regression(x_train, y_train, x_test, y_pred, \n",
    "#                             bunchobject.feature_names[0], \n",
    "#                             bunchobject.feature_names[3])\n",
    "# except:\n",
    "#     print(\"The function has an error, it is supposed to return 5 things\");\n",
    "\n",
    "\n"
   ]
  },
  {
   "cell_type": "markdown",
   "metadata": {
    "colab_type": "text",
    "id": "yHQFwHN1ZDti"
   },
   "source": [
    "# Question 6\n",
    "Multiple Linear Regression "
   ]
  },
  {
   "cell_type": "code",
   "execution_count": 5,
   "metadata": {
    "colab": {
     "base_uri": "https://localhost:8080/",
     "height": 34
    },
    "colab_type": "code",
    "id": "7i5hoxMSZGu3",
    "outputId": "3c9af399-0478-46b2-f2c3-9ee0eed07448"
   },
   "outputs": [
    {
     "name": "stdout",
     "output_type": "stream",
     "text": [
      "The function has an error, it is supposed to return 5 things\n"
     ]
    }
   ],
   "source": [
    "\n",
    "\n",
    "from sklearn.preprocessing import PolynomialFeatures\n",
    "\n",
    "def multiple_linear_regression(bunchobject, x_index, y_index, order, size, seed):\n",
    "    \n",
    "    return None\n",
    "\n",
    "\n",
    "# In[ ]:\n",
    "\n",
    "try:\n",
    "    x_train, y_train, x_test, y_pred, results = multiple_linear_regression(bunchobject,0,3,4,0.4,2752)\n",
    "    print(results)\n",
    "    plot_linear_regression(x_train, y_train, x_test, y_pred, \n",
    "                            bunchobject.feature_names[0], \n",
    "                            bunchobject.feature_names[3])\n",
    "except:\n",
    "    print(\"The function has an error, it is supposed to return 5 things\");\n",
    "\n"
   ]
  },
  {
   "cell_type": "markdown",
   "metadata": {
    "colab_type": "text",
    "id": "C1n0NVJTZIdt"
   },
   "source": [
    "# Question 7 \n",
    "Complete the k-NN classifier function from Qn 4"
   ]
  },
  {
   "cell_type": "code",
   "execution_count": 6,
   "metadata": {
    "colab": {
     "base_uri": "https://localhost:8080/",
     "height": 34
    },
    "colab_type": "code",
    "id": "prxERyEGZTec",
    "outputId": "a42e7a14-a535-4918-909d-67acb9be1cf2"
   },
   "outputs": [
    {
     "name": "stdout",
     "output_type": "stream",
     "text": [
      "None\n"
     ]
    }
   ],
   "source": [
    "\n",
    "def knn_classifier_full(bunchobject, feature_list, size, seed): \n",
    "    \n",
    "    \n",
    "    return None\n",
    "\n",
    "\n",
    "# In[ ]:\n",
    "\n",
    "\n",
    "results = knn_classifier_full(bunchobject, features, 0.40, 2752)\n",
    "print(results)\n",
    "\n"
   ]
  },
  {
   "cell_type": "code",
   "execution_count": 0,
   "metadata": {
    "colab": {},
    "colab_type": "code",
    "id": "-1pAzGgiZcIR"
   },
   "outputs": [],
   "source": []
  }
 ],
 "metadata": {
  "colab": {
   "name": "Week10.ipynb",
   "provenance": []
  },
  "kernelspec": {
   "display_name": "Python 3",
   "language": "python",
   "name": "python3"
  },
  "language_info": {
   "codemirror_mode": {
    "name": "ipython",
    "version": 3
   },
   "file_extension": ".py",
   "mimetype": "text/x-python",
   "name": "python",
   "nbconvert_exporter": "python",
   "pygments_lexer": "ipython3",
   "version": "3.7.1"
  }
 },
 "nbformat": 4,
 "nbformat_minor": 1
}
